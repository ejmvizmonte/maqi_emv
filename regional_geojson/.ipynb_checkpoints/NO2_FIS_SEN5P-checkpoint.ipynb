{
 "cells": [
  {
   "cell_type": "code",
   "execution_count": 1,
   "id": "7df6ca69",
   "metadata": {},
   "outputs": [],
   "source": [
    "%matplotlib inline\n",
    "\n",
    "import numpy as np\n",
    "import pandas as pd\n",
    "import seaborn as sns\n",
    "import matplotlib.pyplot as plt\n",
    "from matplotlib import cm\n",
    "from shapely.geometry import Polygon\n",
    "import geopandas as gpd\n",
    "\n",
    "from sentinelhub import FisRequest, BBox, Geometry, CRS, WcsRequest, CustomUrlParam, DataCollection, HistogramType\n",
    "from sentinelhub.time_utils import parse_time"
   ]
  },
  {
   "cell_type": "code",
   "execution_count": 2,
   "id": "a301f05c",
   "metadata": {},
   "outputs": [],
   "source": [
    "from sentinelhub import SHConfig\n",
    "\n",
    "\n",
    "INSTANCE_ID = '3704e2d2-43dc-4f34-a563-13ec19dff111'  # In case you put instance ID into configuration file you can leave this unchanged\n",
    "\n",
    "if INSTANCE_ID:\n",
    "    config = SHConfig()\n",
    "    config.instance_id = INSTANCE_ID\n",
    "else:\n",
    "    config = None"
   ]
  },
  {
   "cell_type": "code",
   "execution_count": 3,
   "id": "80e16354",
   "metadata": {},
   "outputs": [
    {
     "data": {
      "text/plain": [
       "Geometry(POLYGON ((124.562988 14.09114, 124.238892 12.621291, 124.186707 12.192062, 124.274597 11.815916, 123.362732 11.912689, 122.934265 11.815916, 122.939758 12.610569, 122.711792 12.966834, 122.862854 13.325262, 122.571716 13.821901, 122.294312 14.197682, 122.68158 14.50637, 123.181458 14.293528, 123.722534 14.144418, 124.208679 14.226973, 124.562988 14.09114)), crs=CRS('4326'))"
      ]
     },
     "execution_count": 3,
     "metadata": {},
     "output_type": "execute_result"
    }
   ],
   "source": [
    "single_region = gpd.read_file(\"Bicol Region (Region V).geojson\")\n",
    "single_region_geometry = Geometry(single_region.geometry.values[0], crs=CRS.WGS84)\n",
    "single_region_geometry"
   ]
  },
  {
   "cell_type": "code",
   "execution_count": null,
   "id": "40cb2155",
   "metadata": {},
   "outputs": [],
   "source": [
    "single_region_geometry_n = FisRequest(\n",
    "    data_collection=DataCollection.SENTINEL5P,\n",
    "    layer='NO2_SENTINEL5P',\n",
    "    geometry_list=[single_region_geometry],\n",
    "    #time=('2020-06-20', '2020-12-31'),\n",
    "    time=('2021-01-01', '2021-12-31'),\n",
    "    #time=('2021-06-20', '2022-02-10'),\n",
    "    resolution='1000m',\n",
    "    config=config\n",
    ")\n",
    "\n",
    "single_region_geometry_stats_n = single_region_geometry_n.get_data()"
   ]
  },
  {
   "cell_type": "code",
   "execution_count": null,
   "id": "2e446f99",
   "metadata": {},
   "outputs": [],
   "source": [
    "# request will return json output\n",
    "single_region_geometry_stats_n"
   ]
  },
  {
   "cell_type": "code",
   "execution_count": null,
   "id": "3f90d859",
   "metadata": {},
   "outputs": [],
   "source": [
    "def fis_data_to_dataframe(fis_data):\n",
    "    \"\"\"Creates a DataFrame from list of FIS responses\"\"\"\n",
    "    COLUMNS = [\"channel\", \"date\", \"min\", \"max\", \"mean\", \"stDev\"]\n",
    "    data = []\n",
    "\n",
    "    for fis_response in single_region_geometry_stats_n:\n",
    "        for channel, channel_stats in fis_response.items():\n",
    "            for stat in channel_stats:\n",
    "                row = [int(channel[1:]), parse_time(stat[\"date\"], force_datetime=True)]\n",
    "\n",
    "                for column in COLUMNS[2:]:\n",
    "                    row.append(stat[\"basicStats\"][column])\n",
    "\n",
    "                data.append(row)\n",
    "\n",
    "    return pd.DataFrame(data, columns=COLUMNS).sort_values([\"channel\", \"date\"])\n",
    "\n",
    "\n",
    "df = fis_data_to_dataframe(single_region_geometry_stats_n)\n",
    "\n",
    "df.head()"
   ]
  },
  {
   "cell_type": "code",
   "execution_count": null,
   "id": "afbf02c5",
   "metadata": {},
   "outputs": [],
   "source": [
    "def clean_df (json_stats):\n",
    "    raw_df_stats = fis_data_to_dataframe(json_stats).reset_index(drop=True)\n",
    "    index_df = raw_df_stats[raw_df_stats.channel ==0]\n",
    "    cloud_df = raw_df_stats[raw_df_stats.channel ==1]\n",
    "    cloud_df = cloud_df.drop(['channel'], axis=1).add_suffix('_clm')\n",
    "    merged_df = pd.merge(index_df, cloud_df, left_on ='date', right_on = 'date_clm', how='outer')\n",
    "    clean_merged_df = merged_df.drop(['channel', 'date_clm'], axis=1)\n",
    "    return clean_merged_df"
   ]
  },
  {
   "cell_type": "code",
   "execution_count": null,
   "id": "f5a73613",
   "metadata": {},
   "outputs": [],
   "source": [
    "def clean_df (json_stats):\n",
    "    raw_df_stats = fis_data_to_dataframe(json_stats).reset_index(drop=True)\n",
    "    index_df = raw_df_stats[raw_df_stats.channel ==0]\n",
    "    cloud_df = raw_df_stats[raw_df_stats.channel ==1]\n",
    "    return cloud_df"
   ]
  },
  {
   "cell_type": "code",
   "execution_count": null,
   "id": "6a1cf949",
   "metadata": {},
   "outputs": [],
   "source": [
    "clean_df"
   ]
  },
  {
   "cell_type": "code",
   "execution_count": null,
   "id": "40d48d68",
   "metadata": {},
   "outputs": [],
   "source": [
    "# Data Frame Cleaning\n",
    "single_region_stats_clean = clean_df(single_region_geometry_stats_n)\n",
    "single_region_stats_clean"
   ]
  },
  {
   "cell_type": "code",
   "execution_count": null,
   "id": "427531e7",
   "metadata": {},
   "outputs": [],
   "source": [
    "# Export to CSV\n",
    "single_region_stats_clean.to_csv('regional_no2_csv_2022/bicol2.csv', index=False)"
   ]
  },
  {
   "cell_type": "code",
   "execution_count": null,
   "id": "ce3458d1",
   "metadata": {},
   "outputs": [],
   "source": []
  },
  {
   "cell_type": "code",
   "execution_count": null,
   "id": "8277953c",
   "metadata": {},
   "outputs": [],
   "source": []
  }
 ],
 "metadata": {
  "kernelspec": {
   "display_name": "Python 3",
   "language": "python",
   "name": "python3"
  },
  "language_info": {
   "codemirror_mode": {
    "name": "ipython",
    "version": 3
   },
   "file_extension": ".py",
   "mimetype": "text/x-python",
   "name": "python",
   "nbconvert_exporter": "python",
   "pygments_lexer": "ipython3",
   "version": "3.8.8"
  }
 },
 "nbformat": 4,
 "nbformat_minor": 5
}
